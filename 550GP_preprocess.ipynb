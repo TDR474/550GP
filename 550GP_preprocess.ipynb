{
 "cells": [
  {
   "cell_type": "code",
   "execution_count": 3,
   "metadata": {},
   "outputs": [],
   "source": [
    "# imports \n",
    "import pandas as pd\n",
    "import numpy as np\n",
    "import matplotlib.pyplot as plt\n",
    "import seaborn as sns\n"
   ]
  },
  {
   "cell_type": "code",
   "execution_count": 3,
   "metadata": {},
   "outputs": [
    {
     "name": "stdout",
     "output_type": "stream",
     "text": [
      "/Users/frankzhu/Downloads\n"
     ]
    }
   ],
   "source": [
    "# print current working directory\n",
    "import os\n",
    "print(os.getcwd())"
   ]
  },
  {
   "cell_type": "code",
   "execution_count": 5,
   "metadata": {},
   "outputs": [],
   "source": [
    "# read data from csv file, one named tracks_features.csv and the other named artists.csv\n",
    "tracks_features = pd.read_csv('tracks_features.csv')"
   ]
  },
  {
   "cell_type": "code",
   "execution_count": 5,
   "metadata": {},
   "outputs": [],
   "source": [
    "artists = pd.read_csv('artists_raw.csv')"
   ]
  },
  {
   "cell_type": "code",
   "execution_count": 6,
   "metadata": {},
   "outputs": [],
   "source": [
    "# rename artist column in tracks_features to artist_name, and artist_mb column in artists to artist_name\n",
    "tracks_features = tracks_features.rename(columns={'artists': 'artist_name'})\n",
    "artists = artists.rename(columns={'artist_mb': 'artist_name'})\n",
    "\n",
    "# get rid of the \" [' \" in the beginning and end of the artist_name column in tracks_features\n",
    "tracks_features['artist_name'] = tracks_features['artist_name'].str[2:-2]\n",
    "\n",
    "\n"
   ]
  },
  {
   "cell_type": "code",
   "execution_count": 7,
   "metadata": {},
   "outputs": [
    {
     "data": {
      "text/html": [
       "<div>\n",
       "<style scoped>\n",
       "    .dataframe tbody tr th:only-of-type {\n",
       "        vertical-align: middle;\n",
       "    }\n",
       "\n",
       "    .dataframe tbody tr th {\n",
       "        vertical-align: top;\n",
       "    }\n",
       "\n",
       "    .dataframe thead th {\n",
       "        text-align: right;\n",
       "    }\n",
       "</style>\n",
       "<table border=\"1\" class=\"dataframe\">\n",
       "  <thead>\n",
       "    <tr style=\"text-align: right;\">\n",
       "      <th></th>\n",
       "      <th>id</th>\n",
       "      <th>name</th>\n",
       "      <th>album</th>\n",
       "      <th>album_id</th>\n",
       "      <th>artist_name</th>\n",
       "      <th>artist_ids</th>\n",
       "      <th>track_number</th>\n",
       "      <th>disc_number</th>\n",
       "      <th>explicit</th>\n",
       "      <th>danceability</th>\n",
       "      <th>...</th>\n",
       "      <th>speechiness</th>\n",
       "      <th>acousticness</th>\n",
       "      <th>instrumentalness</th>\n",
       "      <th>liveness</th>\n",
       "      <th>valence</th>\n",
       "      <th>tempo</th>\n",
       "      <th>duration_ms</th>\n",
       "      <th>time_signature</th>\n",
       "      <th>year</th>\n",
       "      <th>release_date</th>\n",
       "    </tr>\n",
       "  </thead>\n",
       "  <tbody>\n",
       "    <tr>\n",
       "      <th>0</th>\n",
       "      <td>7lmeHLHBe4nmXzuXc0HDjk</td>\n",
       "      <td>Testify</td>\n",
       "      <td>The Battle Of Los Angeles</td>\n",
       "      <td>2eia0myWFgoHuttJytCxgX</td>\n",
       "      <td>Rage Against The Machine</td>\n",
       "      <td>['2d0hyoQ5ynDBnkvAbJKORj']</td>\n",
       "      <td>1</td>\n",
       "      <td>1</td>\n",
       "      <td>False</td>\n",
       "      <td>0.470</td>\n",
       "      <td>...</td>\n",
       "      <td>0.0727</td>\n",
       "      <td>0.02610</td>\n",
       "      <td>0.000011</td>\n",
       "      <td>0.3560</td>\n",
       "      <td>0.503</td>\n",
       "      <td>117.906</td>\n",
       "      <td>210133</td>\n",
       "      <td>4.0</td>\n",
       "      <td>1999</td>\n",
       "      <td>1999-11-02</td>\n",
       "    </tr>\n",
       "    <tr>\n",
       "      <th>1</th>\n",
       "      <td>1wsRitfRRtWyEapl0q22o8</td>\n",
       "      <td>Guerrilla Radio</td>\n",
       "      <td>The Battle Of Los Angeles</td>\n",
       "      <td>2eia0myWFgoHuttJytCxgX</td>\n",
       "      <td>Rage Against The Machine</td>\n",
       "      <td>['2d0hyoQ5ynDBnkvAbJKORj']</td>\n",
       "      <td>2</td>\n",
       "      <td>1</td>\n",
       "      <td>True</td>\n",
       "      <td>0.599</td>\n",
       "      <td>...</td>\n",
       "      <td>0.1880</td>\n",
       "      <td>0.01290</td>\n",
       "      <td>0.000071</td>\n",
       "      <td>0.1550</td>\n",
       "      <td>0.489</td>\n",
       "      <td>103.680</td>\n",
       "      <td>206200</td>\n",
       "      <td>4.0</td>\n",
       "      <td>1999</td>\n",
       "      <td>1999-11-02</td>\n",
       "    </tr>\n",
       "    <tr>\n",
       "      <th>2</th>\n",
       "      <td>1hR0fIFK2qRG3f3RF70pb7</td>\n",
       "      <td>Calm Like a Bomb</td>\n",
       "      <td>The Battle Of Los Angeles</td>\n",
       "      <td>2eia0myWFgoHuttJytCxgX</td>\n",
       "      <td>Rage Against The Machine</td>\n",
       "      <td>['2d0hyoQ5ynDBnkvAbJKORj']</td>\n",
       "      <td>3</td>\n",
       "      <td>1</td>\n",
       "      <td>False</td>\n",
       "      <td>0.315</td>\n",
       "      <td>...</td>\n",
       "      <td>0.4830</td>\n",
       "      <td>0.02340</td>\n",
       "      <td>0.000002</td>\n",
       "      <td>0.1220</td>\n",
       "      <td>0.370</td>\n",
       "      <td>149.749</td>\n",
       "      <td>298893</td>\n",
       "      <td>4.0</td>\n",
       "      <td>1999</td>\n",
       "      <td>1999-11-02</td>\n",
       "    </tr>\n",
       "    <tr>\n",
       "      <th>3</th>\n",
       "      <td>2lbASgTSoDO7MTuLAXlTW0</td>\n",
       "      <td>Mic Check</td>\n",
       "      <td>The Battle Of Los Angeles</td>\n",
       "      <td>2eia0myWFgoHuttJytCxgX</td>\n",
       "      <td>Rage Against The Machine</td>\n",
       "      <td>['2d0hyoQ5ynDBnkvAbJKORj']</td>\n",
       "      <td>4</td>\n",
       "      <td>1</td>\n",
       "      <td>True</td>\n",
       "      <td>0.440</td>\n",
       "      <td>...</td>\n",
       "      <td>0.2370</td>\n",
       "      <td>0.16300</td>\n",
       "      <td>0.000004</td>\n",
       "      <td>0.1210</td>\n",
       "      <td>0.574</td>\n",
       "      <td>96.752</td>\n",
       "      <td>213640</td>\n",
       "      <td>4.0</td>\n",
       "      <td>1999</td>\n",
       "      <td>1999-11-02</td>\n",
       "    </tr>\n",
       "    <tr>\n",
       "      <th>4</th>\n",
       "      <td>1MQTmpYOZ6fcMQc56Hdo7T</td>\n",
       "      <td>Sleep Now In the Fire</td>\n",
       "      <td>The Battle Of Los Angeles</td>\n",
       "      <td>2eia0myWFgoHuttJytCxgX</td>\n",
       "      <td>Rage Against The Machine</td>\n",
       "      <td>['2d0hyoQ5ynDBnkvAbJKORj']</td>\n",
       "      <td>5</td>\n",
       "      <td>1</td>\n",
       "      <td>False</td>\n",
       "      <td>0.426</td>\n",
       "      <td>...</td>\n",
       "      <td>0.0701</td>\n",
       "      <td>0.00162</td>\n",
       "      <td>0.105000</td>\n",
       "      <td>0.0789</td>\n",
       "      <td>0.539</td>\n",
       "      <td>127.059</td>\n",
       "      <td>205600</td>\n",
       "      <td>4.0</td>\n",
       "      <td>1999</td>\n",
       "      <td>1999-11-02</td>\n",
       "    </tr>\n",
       "  </tbody>\n",
       "</table>\n",
       "<p>5 rows × 24 columns</p>\n",
       "</div>"
      ],
      "text/plain": [
       "                       id                   name                      album  \\\n",
       "0  7lmeHLHBe4nmXzuXc0HDjk                Testify  The Battle Of Los Angeles   \n",
       "1  1wsRitfRRtWyEapl0q22o8        Guerrilla Radio  The Battle Of Los Angeles   \n",
       "2  1hR0fIFK2qRG3f3RF70pb7       Calm Like a Bomb  The Battle Of Los Angeles   \n",
       "3  2lbASgTSoDO7MTuLAXlTW0              Mic Check  The Battle Of Los Angeles   \n",
       "4  1MQTmpYOZ6fcMQc56Hdo7T  Sleep Now In the Fire  The Battle Of Los Angeles   \n",
       "\n",
       "                 album_id               artist_name  \\\n",
       "0  2eia0myWFgoHuttJytCxgX  Rage Against The Machine   \n",
       "1  2eia0myWFgoHuttJytCxgX  Rage Against The Machine   \n",
       "2  2eia0myWFgoHuttJytCxgX  Rage Against The Machine   \n",
       "3  2eia0myWFgoHuttJytCxgX  Rage Against The Machine   \n",
       "4  2eia0myWFgoHuttJytCxgX  Rage Against The Machine   \n",
       "\n",
       "                   artist_ids  track_number  disc_number  explicit  \\\n",
       "0  ['2d0hyoQ5ynDBnkvAbJKORj']             1            1     False   \n",
       "1  ['2d0hyoQ5ynDBnkvAbJKORj']             2            1      True   \n",
       "2  ['2d0hyoQ5ynDBnkvAbJKORj']             3            1     False   \n",
       "3  ['2d0hyoQ5ynDBnkvAbJKORj']             4            1      True   \n",
       "4  ['2d0hyoQ5ynDBnkvAbJKORj']             5            1     False   \n",
       "\n",
       "   danceability  ...  speechiness  acousticness  instrumentalness  liveness  \\\n",
       "0         0.470  ...       0.0727       0.02610          0.000011    0.3560   \n",
       "1         0.599  ...       0.1880       0.01290          0.000071    0.1550   \n",
       "2         0.315  ...       0.4830       0.02340          0.000002    0.1220   \n",
       "3         0.440  ...       0.2370       0.16300          0.000004    0.1210   \n",
       "4         0.426  ...       0.0701       0.00162          0.105000    0.0789   \n",
       "\n",
       "   valence    tempo  duration_ms  time_signature  year  release_date  \n",
       "0    0.503  117.906       210133             4.0  1999    1999-11-02  \n",
       "1    0.489  103.680       206200             4.0  1999    1999-11-02  \n",
       "2    0.370  149.749       298893             4.0  1999    1999-11-02  \n",
       "3    0.574   96.752       213640             4.0  1999    1999-11-02  \n",
       "4    0.539  127.059       205600             4.0  1999    1999-11-02  \n",
       "\n",
       "[5 rows x 24 columns]"
      ]
     },
     "execution_count": 7,
     "metadata": {},
     "output_type": "execute_result"
    }
   ],
   "source": [
    "tracks_features.head()"
   ]
  },
  {
   "cell_type": "code",
   "execution_count": 8,
   "metadata": {},
   "outputs": [
    {
     "data": {
      "text/plain": [
       "id                  1204025\n",
       "name                1204025\n",
       "album               1204025\n",
       "album_id            1204025\n",
       "artist_name         1204025\n",
       "artist_ids          1204025\n",
       "track_number        1204025\n",
       "disc_number         1204025\n",
       "explicit            1204025\n",
       "danceability        1204025\n",
       "energy              1204025\n",
       "key                 1204025\n",
       "loudness            1204025\n",
       "mode                1204025\n",
       "speechiness         1204025\n",
       "acousticness        1204025\n",
       "instrumentalness    1204025\n",
       "liveness            1204025\n",
       "valence             1204025\n",
       "tempo               1204025\n",
       "duration_ms         1204025\n",
       "time_signature      1204025\n",
       "year                1204025\n",
       "release_date        1204025\n",
       "dtype: int64"
      ]
     },
     "execution_count": 8,
     "metadata": {},
     "output_type": "execute_result"
    }
   ],
   "source": [
    "tracks_features.count()"
   ]
  },
  {
   "cell_type": "code",
   "execution_count": 4,
   "metadata": {},
   "outputs": [
    {
     "ename": "NameError",
     "evalue": "name 'tracks_features' is not defined",
     "output_type": "error",
     "traceback": [
      "\u001b[0;31m---------------------------------------------------------------------------\u001b[0m",
      "\u001b[0;31mNameError\u001b[0m                                 Traceback (most recent call last)",
      "\u001b[0;32m/var/folders/7f/zzvg3mdj425g3y3pzll4q80h0000gn/T/ipykernel_62416/4181217867.py\u001b[0m in \u001b[0;36m<module>\u001b[0;34m\u001b[0m\n\u001b[1;32m      1\u001b[0m \u001b[0;31m# merge tracks_features and artists on artist_name, there shouldn't be more rows than tracks_features\u001b[0m\u001b[0;34m\u001b[0m\u001b[0;34m\u001b[0m\u001b[0m\n\u001b[1;32m      2\u001b[0m \u001b[0;31m# LEFT INNER JOIN, NOT LEFT OUTER JOIN\u001b[0m\u001b[0;34m\u001b[0m\u001b[0;34m\u001b[0m\u001b[0m\n\u001b[0;32m----> 3\u001b[0;31m \u001b[0mtracks_features_cleaned\u001b[0m \u001b[0;34m=\u001b[0m \u001b[0mpd\u001b[0m\u001b[0;34m.\u001b[0m\u001b[0mmerge\u001b[0m\u001b[0;34m(\u001b[0m\u001b[0mtracks_features\u001b[0m\u001b[0;34m,\u001b[0m \u001b[0martists\u001b[0m\u001b[0;34m,\u001b[0m \u001b[0mon\u001b[0m\u001b[0;34m=\u001b[0m\u001b[0;34m'artist_name'\u001b[0m\u001b[0;34m,\u001b[0m \u001b[0mhow\u001b[0m\u001b[0;34m=\u001b[0m\u001b[0;34m'inner'\u001b[0m\u001b[0;34m)\u001b[0m\u001b[0;34m\u001b[0m\u001b[0;34m\u001b[0m\u001b[0m\n\u001b[0m",
      "\u001b[0;31mNameError\u001b[0m: name 'tracks_features' is not defined"
     ]
    }
   ],
   "source": [
    "# merge tracks_features and artists on artist_name, there shouldn't be more rows than tracks_features\n",
    "# LEFT INNER JOIN, NOT LEFT OUTER JOIN\n",
    "tracks_features_cleaned = pd.merge(tracks_features, artists, on='artist_name', how='inner')"
   ]
  },
  {
   "cell_type": "code",
   "execution_count": null,
   "metadata": {},
   "outputs": [
    {
     "data": {
      "text/plain": [
       "id                  34988042\n",
       "name                34988042\n",
       "album               34988042\n",
       "album_id            34988042\n",
       "artist_name         34988042\n",
       "artist_ids_x        34988042\n",
       "track_number        34988042\n",
       "disc_number         34988042\n",
       "explicit            34988042\n",
       "danceability        34988042\n",
       "energy              34988042\n",
       "key                 34988042\n",
       "loudness            34988042\n",
       "mode                34988042\n",
       "speechiness         34988042\n",
       "acousticness        34988042\n",
       "instrumentalness    34988042\n",
       "liveness            34988042\n",
       "valence             34988042\n",
       "tempo               34988042\n",
       "duration_ms         34988042\n",
       "time_signature      34988042\n",
       "year                34988042\n",
       "release_date        34988042\n",
       "artist_ids_y        34988042\n",
       "country_mb          34988042\n",
       "tags_mb             34988042\n",
       "tags_lastfm         34988042\n",
       "dtype: int64"
      ]
     },
     "execution_count": 10,
     "metadata": {},
     "output_type": "execute_result"
    }
   ],
   "source": [
    "tracks_features_cleaned.count()"
   ]
  },
  {
   "cell_type": "code",
   "execution_count": 91,
   "metadata": {},
   "outputs": [
    {
     "data": {
      "text/html": [
       "<div>\n",
       "<style scoped>\n",
       "    .dataframe tbody tr th:only-of-type {\n",
       "        vertical-align: middle;\n",
       "    }\n",
       "\n",
       "    .dataframe tbody tr th {\n",
       "        vertical-align: top;\n",
       "    }\n",
       "\n",
       "    .dataframe thead th {\n",
       "        text-align: right;\n",
       "    }\n",
       "</style>\n",
       "<table border=\"1\" class=\"dataframe\">\n",
       "  <thead>\n",
       "    <tr style=\"text-align: right;\">\n",
       "      <th></th>\n",
       "      <th>artist_ids_x</th>\n",
       "      <th>artist_name</th>\n",
       "      <th>country_mb</th>\n",
       "      <th>tags_mb</th>\n",
       "      <th>tags_lastfm</th>\n",
       "    </tr>\n",
       "  </thead>\n",
       "  <tbody>\n",
       "    <tr>\n",
       "      <th>0</th>\n",
       "      <td>['2U6gqwyl9F33YxawnFrZG7']</td>\n",
       "      <td>Will Young</td>\n",
       "      <td>United Kingdom</td>\n",
       "      <td>british; uk; english; pop and chart</td>\n",
       "      <td>pop; british; male vocalists; singer-songwrite...</td>\n",
       "    </tr>\n",
       "    <tr>\n",
       "      <th>1</th>\n",
       "      <td>['2U6gqwyl9F33YxawnFrZG7']</td>\n",
       "      <td>Will Young</td>\n",
       "      <td>United Kingdom</td>\n",
       "      <td>british; uk; english; pop and chart</td>\n",
       "      <td>pop; british; male vocalists; singer-songwrite...</td>\n",
       "    </tr>\n",
       "    <tr>\n",
       "      <th>2</th>\n",
       "      <td>['2U6gqwyl9F33YxawnFrZG7']</td>\n",
       "      <td>Will Young</td>\n",
       "      <td>United Kingdom</td>\n",
       "      <td>british; uk; english; pop and chart</td>\n",
       "      <td>pop; british; male vocalists; singer-songwrite...</td>\n",
       "    </tr>\n",
       "    <tr>\n",
       "      <th>3</th>\n",
       "      <td>['2U6gqwyl9F33YxawnFrZG7']</td>\n",
       "      <td>Will Young</td>\n",
       "      <td>United Kingdom</td>\n",
       "      <td>british; uk; english; pop and chart</td>\n",
       "      <td>pop; british; male vocalists; singer-songwrite...</td>\n",
       "    </tr>\n",
       "    <tr>\n",
       "      <th>4</th>\n",
       "      <td>['2U6gqwyl9F33YxawnFrZG7']</td>\n",
       "      <td>Will Young</td>\n",
       "      <td>United Kingdom</td>\n",
       "      <td>british; uk; english; pop and chart</td>\n",
       "      <td>pop; british; male vocalists; singer-songwrite...</td>\n",
       "    </tr>\n",
       "  </tbody>\n",
       "</table>\n",
       "</div>"
      ],
      "text/plain": [
       "                 artist_ids_x artist_name      country_mb  \\\n",
       "0  ['2U6gqwyl9F33YxawnFrZG7']  Will Young  United Kingdom   \n",
       "1  ['2U6gqwyl9F33YxawnFrZG7']  Will Young  United Kingdom   \n",
       "2  ['2U6gqwyl9F33YxawnFrZG7']  Will Young  United Kingdom   \n",
       "3  ['2U6gqwyl9F33YxawnFrZG7']  Will Young  United Kingdom   \n",
       "4  ['2U6gqwyl9F33YxawnFrZG7']  Will Young  United Kingdom   \n",
       "\n",
       "                               tags_mb  \\\n",
       "0  british; uk; english; pop and chart   \n",
       "1  british; uk; english; pop and chart   \n",
       "2  british; uk; english; pop and chart   \n",
       "3  british; uk; english; pop and chart   \n",
       "4  british; uk; english; pop and chart   \n",
       "\n",
       "                                         tags_lastfm  \n",
       "0  pop; british; male vocalists; singer-songwrite...  \n",
       "1  pop; british; male vocalists; singer-songwrite...  \n",
       "2  pop; british; male vocalists; singer-songwrite...  \n",
       "3  pop; british; male vocalists; singer-songwrite...  \n",
       "4  pop; british; male vocalists; singer-songwrite...  "
      ]
     },
     "execution_count": 91,
     "metadata": {},
     "output_type": "execute_result"
    }
   ],
   "source": [
    "# only keep the columns we need: artist_id, artist_name, country_mb, tags_mb, tags_lastfm\n",
    "tracks_features_cleaned = tracks_features_cleaned[['artist_ids_x', 'artist_name', 'country_mb', 'tags_mb', 'tags_lastfm']]\n",
    "tracks_features_cleaned.head()\n",
    "\n"
   ]
  },
  {
   "cell_type": "code",
   "execution_count": 92,
   "metadata": {},
   "outputs": [
    {
     "data": {
      "text/plain": [
       "artist_ids_x    34988042\n",
       "artist_name     34988042\n",
       "country_mb      34988042\n",
       "tags_mb         34988042\n",
       "tags_lastfm     34988042\n",
       "dtype: int64"
      ]
     },
     "execution_count": 92,
     "metadata": {},
     "output_type": "execute_result"
    }
   ],
   "source": [
    "# view the size of the dataframe\n",
    "tracks_features_cleaned.head()\n",
    "# count NaN values in each column\n",
    "tracks_features_cleaned.isnull().sum()\n",
    "# count length of each column\n",
    "tracks_features_cleaned.count()"
   ]
  },
  {
   "cell_type": "code",
   "execution_count": 93,
   "metadata": {},
   "outputs": [
    {
     "data": {
      "text/plain": [
       "id                  1204025\n",
       "name                1204025\n",
       "album               1204025\n",
       "album_id            1204025\n",
       "artist_name         1204025\n",
       "artist_ids          1204025\n",
       "track_number        1204025\n",
       "disc_number         1204025\n",
       "explicit            1204025\n",
       "danceability        1204025\n",
       "energy              1204025\n",
       "key                 1204025\n",
       "loudness            1204025\n",
       "mode                1204025\n",
       "speechiness         1204025\n",
       "acousticness        1204025\n",
       "instrumentalness    1204025\n",
       "liveness            1204025\n",
       "valence             1204025\n",
       "tempo               1204025\n",
       "duration_ms         1204025\n",
       "time_signature      1204025\n",
       "year                1204025\n",
       "release_date        1204025\n",
       "dtype: int64"
      ]
     },
     "execution_count": 93,
     "metadata": {},
     "output_type": "execute_result"
    }
   ],
   "source": [
    "tracks_features.count()"
   ]
  },
  {
   "cell_type": "code",
   "execution_count": 94,
   "metadata": {},
   "outputs": [],
   "source": [
    "# rename the columns\n",
    "tracks_features_cleaned_renamed = tracks_features_cleaned.rename(columns={'artist_ids_x': 'artist_id', 'country_mb': 'artist_country', 'tags_mb': 'genre1', 'tags_lastfm': 'genre2'})"
   ]
  },
  {
   "cell_type": "code",
   "execution_count": 95,
   "metadata": {},
   "outputs": [
    {
     "data": {
      "text/html": [
       "<div>\n",
       "<style scoped>\n",
       "    .dataframe tbody tr th:only-of-type {\n",
       "        vertical-align: middle;\n",
       "    }\n",
       "\n",
       "    .dataframe tbody tr th {\n",
       "        vertical-align: top;\n",
       "    }\n",
       "\n",
       "    .dataframe thead th {\n",
       "        text-align: right;\n",
       "    }\n",
       "</style>\n",
       "<table border=\"1\" class=\"dataframe\">\n",
       "  <thead>\n",
       "    <tr style=\"text-align: right;\">\n",
       "      <th></th>\n",
       "      <th>artist_id</th>\n",
       "      <th>artist_name</th>\n",
       "      <th>artist_country</th>\n",
       "      <th>genre1</th>\n",
       "      <th>genre2</th>\n",
       "    </tr>\n",
       "  </thead>\n",
       "  <tbody>\n",
       "    <tr>\n",
       "      <th>0</th>\n",
       "      <td>['2U6gqwyl9F33YxawnFrZG7']</td>\n",
       "      <td>Will Young</td>\n",
       "      <td>United Kingdom</td>\n",
       "      <td>british; uk; english; pop and chart</td>\n",
       "      <td>pop; british; male vocalists; singer-songwrite...</td>\n",
       "    </tr>\n",
       "    <tr>\n",
       "      <th>1</th>\n",
       "      <td>['2U6gqwyl9F33YxawnFrZG7']</td>\n",
       "      <td>Will Young</td>\n",
       "      <td>United Kingdom</td>\n",
       "      <td>british; uk; english; pop and chart</td>\n",
       "      <td>pop; british; male vocalists; singer-songwrite...</td>\n",
       "    </tr>\n",
       "    <tr>\n",
       "      <th>2</th>\n",
       "      <td>['2U6gqwyl9F33YxawnFrZG7']</td>\n",
       "      <td>Will Young</td>\n",
       "      <td>United Kingdom</td>\n",
       "      <td>british; uk; english; pop and chart</td>\n",
       "      <td>pop; british; male vocalists; singer-songwrite...</td>\n",
       "    </tr>\n",
       "    <tr>\n",
       "      <th>3</th>\n",
       "      <td>['2U6gqwyl9F33YxawnFrZG7']</td>\n",
       "      <td>Will Young</td>\n",
       "      <td>United Kingdom</td>\n",
       "      <td>british; uk; english; pop and chart</td>\n",
       "      <td>pop; british; male vocalists; singer-songwrite...</td>\n",
       "    </tr>\n",
       "    <tr>\n",
       "      <th>4</th>\n",
       "      <td>['2U6gqwyl9F33YxawnFrZG7']</td>\n",
       "      <td>Will Young</td>\n",
       "      <td>United Kingdom</td>\n",
       "      <td>british; uk; english; pop and chart</td>\n",
       "      <td>pop; british; male vocalists; singer-songwrite...</td>\n",
       "    </tr>\n",
       "  </tbody>\n",
       "</table>\n",
       "</div>"
      ],
      "text/plain": [
       "                    artist_id artist_name  artist_country  \\\n",
       "0  ['2U6gqwyl9F33YxawnFrZG7']  Will Young  United Kingdom   \n",
       "1  ['2U6gqwyl9F33YxawnFrZG7']  Will Young  United Kingdom   \n",
       "2  ['2U6gqwyl9F33YxawnFrZG7']  Will Young  United Kingdom   \n",
       "3  ['2U6gqwyl9F33YxawnFrZG7']  Will Young  United Kingdom   \n",
       "4  ['2U6gqwyl9F33YxawnFrZG7']  Will Young  United Kingdom   \n",
       "\n",
       "                                genre1  \\\n",
       "0  british; uk; english; pop and chart   \n",
       "1  british; uk; english; pop and chart   \n",
       "2  british; uk; english; pop and chart   \n",
       "3  british; uk; english; pop and chart   \n",
       "4  british; uk; english; pop and chart   \n",
       "\n",
       "                                              genre2  \n",
       "0  pop; british; male vocalists; singer-songwrite...  \n",
       "1  pop; british; male vocalists; singer-songwrite...  \n",
       "2  pop; british; male vocalists; singer-songwrite...  \n",
       "3  pop; british; male vocalists; singer-songwrite...  \n",
       "4  pop; british; male vocalists; singer-songwrite...  "
      ]
     },
     "execution_count": 95,
     "metadata": {},
     "output_type": "execute_result"
    }
   ],
   "source": [
    "tracks_features_cleaned_renamed.head()"
   ]
  },
  {
   "cell_type": "code",
   "execution_count": 96,
   "metadata": {},
   "outputs": [],
   "source": [
    "# export to csv file\n",
    "# tracks_features_cleaned_renamed.to_csv('Artists.csv', index=False)"
   ]
  },
  {
   "cell_type": "markdown",
   "metadata": {},
   "source": []
  }
 ],
 "metadata": {
  "kernelspec": {
   "display_name": "Python 3.9.7 ('base')",
   "language": "python",
   "name": "python3"
  },
  "language_info": {
   "codemirror_mode": {
    "name": "ipython",
    "version": 3
   },
   "file_extension": ".py",
   "mimetype": "text/x-python",
   "name": "python",
   "nbconvert_exporter": "python",
   "pygments_lexer": "ipython3",
   "version": "3.9.7"
  },
  "orig_nbformat": 4,
  "vscode": {
   "interpreter": {
    "hash": "5fc46f4ca4c3e783c5efc93cd0a8383c2a91a68aeca57a29503310e8224dc9de"
   }
  }
 },
 "nbformat": 4,
 "nbformat_minor": 2
}
